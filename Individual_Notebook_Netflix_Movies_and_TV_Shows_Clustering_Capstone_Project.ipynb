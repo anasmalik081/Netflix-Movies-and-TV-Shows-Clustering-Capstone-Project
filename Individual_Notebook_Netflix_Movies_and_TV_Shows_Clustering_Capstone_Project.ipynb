{
  "nbformat": 4,
  "nbformat_minor": 0,
  "metadata": {
    "colab": {
      "provenance": []
    },
    "kernelspec": {
      "name": "python3",
      "display_name": "Python 3"
    },
    "language_info": {
      "name": "python"
    }
  },
  "cells": [
    {
      "cell_type": "markdown",
      "source": [
        "# **Project Name - Netflix Movies and TV Shows Clustering**"
      ],
      "metadata": {
        "id": "kmrJVPUzgsW5"
      }
    },
    {
      "cell_type": "markdown",
      "source": [
        "##### **Project Type**    - Unsupervised Machine Learning (Clustering)\n",
        "##### **Contribution**    - Individual"
      ],
      "metadata": {
        "id": "_b7pQkJPg3RP"
      }
    },
    {
      "cell_type": "markdown",
      "source": [
        "# **Project Summary**"
      ],
      "metadata": {
        "id": "eoDeVd3RhB4M"
      }
    },
    {
      "cell_type": "markdown",
      "source": [
        "Write project summary here..."
      ],
      "metadata": {
        "id": "O6WqEwlXhINt"
      }
    },
    {
      "cell_type": "markdown",
      "source": [
        "# **GitHub Link**"
      ],
      "metadata": {
        "id": "Hckk3aN-hLhs"
      }
    },
    {
      "cell_type": "markdown",
      "source": [
        "Paste your github link here..."
      ],
      "metadata": {
        "id": "4MpL26bJhQ-J"
      }
    },
    {
      "cell_type": "markdown",
      "source": [
        "# **Problem Statement**"
      ],
      "metadata": {
        "id": "VxBYXIb3hZKX"
      }
    },
    {
      "cell_type": "code",
      "execution_count": null,
      "metadata": {
        "id": "7rkEPGrtepUK"
      },
      "outputs": [],
      "source": []
    }
  ]
}